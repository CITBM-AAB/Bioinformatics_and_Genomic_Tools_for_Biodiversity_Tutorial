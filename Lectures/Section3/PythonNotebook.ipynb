{
 "cells": [
  {
   "cell_type": "markdown",
   "id": "57ce915c",
   "metadata": {},
   "source": [
    "# Puesta a Punto\n",
    "\n",
    "El objetivo de esta unidad es tratar los conceptos básicos de programación y el paradigma de programación orientada a objetos. Estos conceptos serán utilizados durante el curso. Utilizando JupyterNotebooks realizaremos los ejercicios del curso, tareas y evaluaciones. Veremos los datos y como diferentes instrucciones operan sobre los mismos. También veremos e implementaremos ejercicios básicos de programación. \n",
    "Durante el curso veremos e implementaremos los algoritmos utilizando Python. \n",
    "Es importante destacar que los algoritmos que veremos son independientes del lenguaje de programación, es decir, pueden ser implementados en cualquier lenguaje.\n",
    "\n"
   ]
  },
  {
   "cell_type": "markdown",
   "id": "c149df34",
   "metadata": {},
   "source": [
    "## Tipos de datos en Python\n"
   ]
  },
  {
   "cell_type": "markdown",
   "id": "46ed04db",
   "metadata": {},
   "source": [
    "### Tipo Númerico "
   ]
  },
  {
   "cell_type": "code",
   "execution_count": 1,
   "id": "2b9f3e34",
   "metadata": {},
   "outputs": [
    {
     "name": "stdout",
     "output_type": "stream",
     "text": [
      "15 <class 'int'>\n",
      "15.1 <class 'float'>\n"
     ]
    }
   ],
   "source": [
    "# Básicas\n",
    "x=15\n",
    "print(x, type(x))\n",
    "y=15.1\n",
    "print(y, type(y))\n"
   ]
  },
  {
   "cell_type": "markdown",
   "id": "cd9e9549",
   "metadata": {},
   "source": [
    "Distinguimos 2 tipos: `int` y `float`"
   ]
  },
  {
   "cell_type": "code",
   "execution_count": 2,
   "id": "3d360be3",
   "metadata": {},
   "outputs": [
    {
     "name": "stdout",
     "output_type": "stream",
     "text": [
      "21 <class 'int'>\n"
     ]
    }
   ],
   "source": [
    "y=21\n",
    "print(y, type(y))"
   ]
  },
  {
   "cell_type": "markdown",
   "id": "76113f36",
   "metadata": {},
   "source": [
    "Como podemos ejemplo la variable `y` cambia de forma dinámica su tipo a medida que les asignamos valores. Esto ocurre para cualquier variable."
   ]
  },
  {
   "cell_type": "markdown",
   "id": "ff575e29",
   "metadata": {},
   "source": [
    "#### Operaciones sobre variables númericas "
   ]
  },
  {
   "cell_type": "code",
   "execution_count": 3,
   "id": "36a4213a",
   "metadata": {},
   "outputs": [
    {
     "name": "stdout",
     "output_type": "stream",
     "text": [
      "31\n",
      "210\n",
      "225\n",
      "3.75\n",
      "3\n"
     ]
    }
   ],
   "source": [
    "print(y+10)\n",
    "print(y*10)\n",
    "print(x**2)\n",
    "print(x/4) \n",
    "print(x//4)\n",
    "\n",
    "\n"
   ]
  },
  {
   "cell_type": "markdown",
   "id": "3597ba4d",
   "metadata": {},
   "source": [
    "1. `+` : Suma\n",
    "2. `*` : Multiplicación\n",
    "3. `**`: Elevado\n",
    "4. `/` : División\n",
    "5. `//`: División con resultado entero\n"
   ]
  },
  {
   "cell_type": "markdown",
   "id": "0932ddc8",
   "metadata": {},
   "source": [
    "### Tipo Lógico"
   ]
  },
  {
   "cell_type": "code",
   "execution_count": 4,
   "id": "daaaa390",
   "metadata": {},
   "outputs": [
    {
     "name": "stdout",
     "output_type": "stream",
     "text": [
      "True <class 'bool'>\n",
      "False <class 'bool'>\n"
     ]
    }
   ],
   "source": [
    "verdadero=True\n",
    "falso=False\n",
    "print(verdadero, type(verdadero))\n",
    "print(falso, type(falso))"
   ]
  },
  {
   "cell_type": "markdown",
   "id": "a7468b14",
   "metadata": {},
   "source": [
    "#### Operaciones sobre datos lógicos"
   ]
  },
  {
   "cell_type": "code",
   "execution_count": 5,
   "id": "4eaede84",
   "metadata": {},
   "outputs": [
    {
     "name": "stdout",
     "output_type": "stream",
     "text": [
      "True\n",
      "False\n",
      "True\n"
     ]
    }
   ],
   "source": [
    "print(verdadero or falso)\n",
    "print(verdadero and falso)\n",
    "print(verdadero and not falso)\n"
   ]
  },
  {
   "cell_type": "markdown",
   "id": "8012b0cc",
   "metadata": {},
   "source": [
    "#### Operaciones con resultado lógico sobre variables númericas\n",
    "\n",
    "recordemos que x=15"
   ]
  },
  {
   "cell_type": "code",
   "execution_count": 6,
   "id": "e92352f4",
   "metadata": {},
   "outputs": [
    {
     "name": "stdout",
     "output_type": "stream",
     "text": [
      "False True False True\n"
     ]
    }
   ],
   "source": [
    "print(x<10, x>10, x==10, x==15)"
   ]
  },
  {
   "cell_type": "markdown",
   "id": "ca3d93a1",
   "metadata": {},
   "source": [
    "### Tipo Cadena de Caracteres (STRINGS)"
   ]
  },
  {
   "cell_type": "markdown",
   "id": "8a3ea652",
   "metadata": {},
   "source": [
    "Los strings corresponden a una cadena de caracteres, se escriben entre comillas simples `'` o dobles `\"`.  \n",
    "  \n",
    "¿Por qué es útil escribir en comillas simples o dobles?\n",
    "  "
   ]
  },
  {
   "cell_type": "code",
   "execution_count": 7,
   "id": "9d7ee3cf",
   "metadata": {},
   "outputs": [
    {
     "ename": "SyntaxError",
     "evalue": "invalid syntax (<ipython-input-7-1d7e8350b273>, line 1)",
     "output_type": "error",
     "traceback": [
      "\u001b[0;36m  File \u001b[0;32m\"<ipython-input-7-1d7e8350b273>\"\u001b[0;36m, line \u001b[0;32m1\u001b[0m\n\u001b[0;31m    frase=\"El alumno dijo: \"No sé programar\"\"\u001b[0m\n\u001b[0m                            ^\u001b[0m\n\u001b[0;31mSyntaxError\u001b[0m\u001b[0;31m:\u001b[0m invalid syntax\n"
     ]
    }
   ],
   "source": [
    "frase=\"El alumno dijo: \"No sé programar\"\"\n",
    "print (frase)"
   ]
  },
  {
   "cell_type": "code",
   "execution_count": 8,
   "id": "ae06260d",
   "metadata": {},
   "outputs": [
    {
     "name": "stdout",
     "output_type": "stream",
     "text": [
      "El alumno dijo: \"No sé programar\"\n"
     ]
    }
   ],
   "source": [
    "frase='El alumno dijo: \"No sé programar\"'\n",
    "print (frase)"
   ]
  },
  {
   "cell_type": "markdown",
   "id": "f1fdf6d6",
   "metadata": {},
   "source": [
    "#### Operaciones sobre Strings"
   ]
  },
  {
   "cell_type": "code",
   "execution_count": 9,
   "id": "b0ca540b",
   "metadata": {},
   "outputs": [
    {
     "name": "stdout",
     "output_type": "stream",
     "text": [
      "Dante\n",
      "Travisany\n",
      "Dante Travisany\n"
     ]
    }
   ],
   "source": [
    "nombre=\"Dante\"\n",
    "apellido=\"Travisany\"\n",
    "\n",
    "completo=nombre+\" \"+apellido\n",
    "print(nombre)\n",
    "print(apellido)\n",
    "print(completo)"
   ]
  },
  {
   "cell_type": "code",
   "execution_count": 10,
   "id": "8c6bd001",
   "metadata": {},
   "outputs": [
    {
     "name": "stdout",
     "output_type": "stream",
     "text": [
      "DANTE TRAVISANY\n"
     ]
    }
   ],
   "source": [
    "print(completo.upper())"
   ]
  },
  {
   "cell_type": "code",
   "execution_count": 11,
   "id": "39b3c851",
   "metadata": {},
   "outputs": [
    {
     "name": "stdout",
     "output_type": "stream",
     "text": [
      "dante travisany\n"
     ]
    }
   ],
   "source": [
    "print(completo.lower())"
   ]
  },
  {
   "cell_type": "code",
   "execution_count": 12,
   "id": "7b4356e6",
   "metadata": {},
   "outputs": [
    {
     "name": "stdout",
     "output_type": "stream",
     "text": [
      "5\n",
      "9\n",
      "15\n"
     ]
    }
   ],
   "source": [
    "print(len(nombre))\n",
    "print(len(apellido))\n",
    "print(len(completo))"
   ]
  },
  {
   "cell_type": "markdown",
   "id": "8ab0636f",
   "metadata": {},
   "source": [
    "### Tipo Listas"
   ]
  },
  {
   "cell_type": "markdown",
   "id": "cf8e99e8",
   "metadata": {},
   "source": [
    "Podemos definir una lista como una secuencia de datos, pueden ser del mismo tipo o de diversos tipos. Pueden tener un largo variable."
   ]
  },
  {
   "cell_type": "code",
   "execution_count": 13,
   "id": "89b4a41f",
   "metadata": {},
   "outputs": [
    {
     "name": "stdout",
     "output_type": "stream",
     "text": [
      "[0, 1, 2, 3, 4, 5] <class 'list'>\n"
     ]
    }
   ],
   "source": [
    "lista=[0,1,2,3,4,5]\n",
    "print(lista, type(lista))"
   ]
  },
  {
   "cell_type": "markdown",
   "id": "caacfeab",
   "metadata": {},
   "source": [
    "#### Operaciones sobre lista"
   ]
  },
  {
   "cell_type": "code",
   "execution_count": 14,
   "id": "7b700789",
   "metadata": {},
   "outputs": [
    {
     "name": "stdout",
     "output_type": "stream",
     "text": [
      "[0, 1, 2, 3, 4, 5, 6]\n"
     ]
    }
   ],
   "source": [
    "lista.append(6)\n",
    "print(lista)"
   ]
  },
  {
   "cell_type": "code",
   "execution_count": 15,
   "id": "1fca3972",
   "metadata": {},
   "outputs": [
    {
     "data": {
      "text/plain": [
       "[0, 1, 2, 3, 4, 5, 6]"
      ]
     },
     "execution_count": 15,
     "metadata": {},
     "output_type": "execute_result"
    }
   ],
   "source": [
    "lista"
   ]
  },
  {
   "cell_type": "code",
   "execution_count": 16,
   "id": "958b54b5",
   "metadata": {},
   "outputs": [
    {
     "name": "stdout",
     "output_type": "stream",
     "text": [
      "[0, 1, 2, 3, 4, 5]\n"
     ]
    }
   ],
   "source": [
    "lista.pop()\n",
    "print(lista)"
   ]
  },
  {
   "cell_type": "code",
   "execution_count": 17,
   "id": "4d4f1e85",
   "metadata": {},
   "outputs": [
    {
     "name": "stdout",
     "output_type": "stream",
     "text": [
      "['h', 'o', 'l', 'a'] <class 'list'>\n"
     ]
    }
   ],
   "source": [
    "lista2=['h','o','l','a']\n",
    "print(lista2,type(lista2))"
   ]
  },
  {
   "cell_type": "code",
   "execution_count": 18,
   "id": "8607371a",
   "metadata": {},
   "outputs": [],
   "source": [
    "lista2.append(8)"
   ]
  },
  {
   "cell_type": "code",
   "execution_count": 19,
   "id": "5cbb3e7a",
   "metadata": {},
   "outputs": [
    {
     "name": "stdout",
     "output_type": "stream",
     "text": [
      "['h', 'o', 'l', 'a', 8]\n"
     ]
    }
   ],
   "source": [
    "print(lista2)"
   ]
  },
  {
   "cell_type": "markdown",
   "id": "5c971293",
   "metadata": {},
   "source": [
    "#### Índices de una lista"
   ]
  },
  {
   "cell_type": "code",
   "execution_count": 20,
   "id": "7ab2b076",
   "metadata": {},
   "outputs": [
    {
     "name": "stdout",
     "output_type": "stream",
     "text": [
      "h\n"
     ]
    }
   ],
   "source": [
    "print(lista2[0])"
   ]
  },
  {
   "cell_type": "code",
   "execution_count": 21,
   "id": "0142fa53",
   "metadata": {},
   "outputs": [
    {
     "name": "stdout",
     "output_type": "stream",
     "text": [
      "l\n"
     ]
    }
   ],
   "source": [
    "print(lista2[2])"
   ]
  },
  {
   "cell_type": "code",
   "execution_count": 22,
   "id": "5007b412",
   "metadata": {},
   "outputs": [
    {
     "name": "stdout",
     "output_type": "stream",
     "text": [
      "l\n"
     ]
    }
   ],
   "source": [
    "print(lista2[-3])"
   ]
  },
  {
   "cell_type": "code",
   "execution_count": 23,
   "id": "88ea9969",
   "metadata": {},
   "outputs": [
    {
     "name": "stdout",
     "output_type": "stream",
     "text": [
      "8\n"
     ]
    }
   ],
   "source": [
    "print(lista2[-1])"
   ]
  },
  {
   "cell_type": "markdown",
   "id": "2809a421",
   "metadata": {},
   "source": [
    "### Paquetes"
   ]
  },
  {
   "cell_type": "markdown",
   "id": "a9148350",
   "metadata": {},
   "source": [
    "Los paquetes traen funciones predefinidas y existe una gran cantidad de paquetes.\n",
    "Veremos el paquete `math`"
   ]
  },
  {
   "cell_type": "code",
   "execution_count": 24,
   "id": "7b242f65",
   "metadata": {},
   "outputs": [],
   "source": [
    "import math"
   ]
  },
  {
   "cell_type": "code",
   "execution_count": 25,
   "id": "5d4ea55d",
   "metadata": {},
   "outputs": [
    {
     "name": "stdout",
     "output_type": "stream",
     "text": [
      "13.0\n"
     ]
    }
   ],
   "source": [
    "a=5\n",
    "b=12\n",
    "c=math.sqrt(a**2+b**2)\n",
    "print(c)"
   ]
  },
  {
   "cell_type": "markdown",
   "id": "5e13438d",
   "metadata": {},
   "source": [
    "No es necesario importar todo el paquete si sólo queremos usar una función."
   ]
  },
  {
   "cell_type": "code",
   "execution_count": 26,
   "id": "bcd03e3a",
   "metadata": {},
   "outputs": [
    {
     "name": "stdout",
     "output_type": "stream",
     "text": [
      "5.0\n"
     ]
    }
   ],
   "source": [
    "from math import sqrt\n",
    "\n",
    "a=3\n",
    "b=4\n",
    "c=sqrt(a**2+b**2)\n",
    "print(c)"
   ]
  },
  {
   "cell_type": "markdown",
   "id": "92994dc4",
   "metadata": {},
   "source": [
    "### Crear una función"
   ]
  },
  {
   "cell_type": "markdown",
   "id": "9c5fb966",
   "metadata": {},
   "source": [
    "Nosotros podemos crear nuestras propias funciones.  \n",
    "\n",
    "Por ejemplo, queremos implementar el teorema de Pitágoras: el cuadrado de la longitud de la hipotenusa es igual a la suma de los cuadrados de las respectivas longitudes de los otros dos lados del triángulo rectángulo, denominados catetos.\n",
    "<img src=\"imagenes/Triangulo-Rectangulo.png\" alt=\"triangulorectangulo\" width=\"200\"/>\n"
   ]
  },
  {
   "cell_type": "markdown",
   "id": "2dcc040e",
   "metadata": {},
   "source": [
    "Entonces para calcular la hipotenusa debemos elevar al cuadrado cada cateto y calcular la raíz cuadrada.\n",
    "Supongamos que tenemos el cateto `a`, el cateto `b` y la hipotenusa `h`.\n",
    "Entonces podemos definir la siguiente función"
   ]
  },
  {
   "cell_type": "code",
   "execution_count": 27,
   "id": "ab66f97c",
   "metadata": {},
   "outputs": [],
   "source": [
    "def pitagoras(a,b):\n",
    "    from math import sqrt\n",
    "    h=sqrt(a**2+b**2)\n",
    "    return h\n"
   ]
  },
  {
   "cell_type": "code",
   "execution_count": 28,
   "id": "dfad26f5",
   "metadata": {},
   "outputs": [
    {
     "data": {
      "text/plain": [
       "13.0"
      ]
     },
     "execution_count": 28,
     "metadata": {},
     "output_type": "execute_result"
    }
   ],
   "source": [
    "pitagoras(5,12)"
   ]
  },
  {
   "cell_type": "code",
   "execution_count": 29,
   "id": "f9588bab",
   "metadata": {},
   "outputs": [
    {
     "data": {
      "text/plain": [
       "10.198039027185569"
      ]
     },
     "execution_count": 29,
     "metadata": {},
     "output_type": "execute_result"
    }
   ],
   "source": [
    "pitagoras(10,2)"
   ]
  },
  {
   "cell_type": "code",
   "execution_count": 30,
   "id": "a41eacf4",
   "metadata": {},
   "outputs": [
    {
     "data": {
      "text/plain": [
       "5.0"
      ]
     },
     "execution_count": 30,
     "metadata": {},
     "output_type": "execute_result"
    }
   ],
   "source": [
    "pitagoras(3,4)"
   ]
  },
  {
   "cell_type": "code",
   "execution_count": 31,
   "id": "14cf43ce",
   "metadata": {},
   "outputs": [
    {
     "data": {
      "text/plain": [
       "function"
      ]
     },
     "execution_count": 31,
     "metadata": {},
     "output_type": "execute_result"
    }
   ],
   "source": [
    "type(pitagoras)"
   ]
  },
  {
   "cell_type": "markdown",
   "id": "80684238",
   "metadata": {},
   "source": [
    "### Tipo de Variable Diccionarios (HASH)"
   ]
  },
  {
   "cell_type": "markdown",
   "id": "b94876b2",
   "metadata": {},
   "source": [
    "Un diccionario es muy parecido a una lista. Sin embargo, los elementos serán indexados con una `clave` y un `valor`. En el caso de las listas la `clave` es un entero que parte en cero. En un diccionario no hay orden y las `claves` pueden ser no númericas."
   ]
  },
  {
   "cell_type": "code",
   "execution_count": 32,
   "id": "692994e4",
   "metadata": {},
   "outputs": [],
   "source": [
    "diccionario= {\"Nombre\":\"Daddy\", \"Apellido\":\"Yankee\", \"Telefono\":1234567890}"
   ]
  },
  {
   "cell_type": "code",
   "execution_count": 33,
   "id": "2f14ca9e",
   "metadata": {},
   "outputs": [
    {
     "data": {
      "text/plain": [
       "'Daddy'"
      ]
     },
     "execution_count": 33,
     "metadata": {},
     "output_type": "execute_result"
    }
   ],
   "source": [
    "diccionario['Nombre']"
   ]
  },
  {
   "cell_type": "code",
   "execution_count": 34,
   "id": "8cef805e",
   "metadata": {},
   "outputs": [
    {
     "data": {
      "text/plain": [
       "1234567890"
      ]
     },
     "execution_count": 34,
     "metadata": {},
     "output_type": "execute_result"
    }
   ],
   "source": [
    "diccionario['Telefono']"
   ]
  },
  {
   "cell_type": "code",
   "execution_count": 35,
   "id": "dd5e83c7",
   "metadata": {},
   "outputs": [
    {
     "name": "stdout",
     "output_type": "stream",
     "text": [
      "1\n"
     ]
    }
   ],
   "source": [
    "dict_cachipun = {\"piedra\":0, \"papel\":1, \"tijera\":2}\n",
    "print(dict_cachipun[\"papel\"])\n",
    "\n"
   ]
  },
  {
   "cell_type": "code",
   "execution_count": 36,
   "id": "b192aabb",
   "metadata": {},
   "outputs": [
    {
     "name": "stdout",
     "output_type": "stream",
     "text": [
      "papel\n"
     ]
    }
   ],
   "source": [
    "\n",
    "\n",
    "lista_cachipun = [\"piedra\", \"papel\", \"tijera\"]\n",
    "print(lista_cachipun[1])\n",
    "\n"
   ]
  },
  {
   "cell_type": "markdown",
   "id": "8b84adea",
   "metadata": {},
   "source": [
    "### Condiciones if - else"
   ]
  },
  {
   "cell_type": "markdown",
   "id": "275724d2",
   "metadata": {},
   "source": [
    "La instrucción `if` permite elegir entre distintas alternativas de instrucciones a ejecutar."
   ]
  },
  {
   "cell_type": "markdown",
   "id": "3f24f3e1",
   "metadata": {},
   "source": [
    "Por ejemplo, si quiseramos encontrar entre dos números `a` y `b`, cual es mayor, tendríamos que preguntarnos si(`if`) `a` es mayor que `b` y esperar la respuesta."
   ]
  },
  {
   "cell_type": "code",
   "execution_count": 37,
   "id": "b6b2ad08",
   "metadata": {},
   "outputs": [
    {
     "name": "stdout",
     "output_type": "stream",
     "text": [
      "2\n"
     ]
    }
   ],
   "source": [
    "\n",
    "\n",
    "def mayor(a, b):\n",
    "    if a>b:\n",
    "        mayor=a\n",
    "    else:\n",
    "        mayor=b\n",
    "    return mayor\n",
    "\n",
    "\n",
    "print(mayor(1,2))\n",
    "\n"
   ]
  },
  {
   "cell_type": "code",
   "execution_count": 38,
   "id": "2c1a6cb2",
   "metadata": {},
   "outputs": [
    {
     "name": "stdout",
     "output_type": "stream",
     "text": [
      "45\n"
     ]
    }
   ],
   "source": [
    "print(mayor(45,1))"
   ]
  },
  {
   "cell_type": "code",
   "execution_count": 39,
   "id": "06e8ce4d",
   "metadata": {},
   "outputs": [
    {
     "name": "stdout",
     "output_type": "stream",
     "text": [
      "1\n"
     ]
    }
   ],
   "source": [
    "print(mayor(1,1))"
   ]
  },
  {
   "cell_type": "markdown",
   "id": "2ad5c2f5",
   "metadata": {},
   "source": [
    "Ahora combinemos lo aprendido, realizaremos una función llamada cachipun, donde competiremos en un cachipún contra el computador."
   ]
  },
  {
   "cell_type": "code",
   "execution_count": 43,
   "id": "ca4d7dc7",
   "metadata": {},
   "outputs": [],
   "source": [
    "def cachipun():\n",
    "    from random import randint\n",
    "    computador=randint(0,2)\n",
    "    player=dict_cachipun[input(\"¿piedra, papel o tijera? \")]\n",
    "    if computador==player: \n",
    "        resultado=\"Empate\" \n",
    "    else:\n",
    "        if (computador+1)%3==player: \n",
    "            resultado=\"Ganaste!\" \n",
    "        else: \n",
    "            resultado=\"Te gané!\"\n",
    "        \n",
    "    print(\"Jugaste\", lista_cachipun[player])\n",
    "    print(\"Computador juega\", lista_cachipun[computador])\n",
    "    print(\"Resultado:\", resultado)\n"
   ]
  },
  {
   "cell_type": "code",
   "execution_count": 44,
   "id": "cd4e67b5",
   "metadata": {},
   "outputs": [
    {
     "name": "stdout",
     "output_type": "stream",
     "text": [
      "¿piedra, papel o tijera? tijera\n",
      "Jugaste tijera\n",
      "Coomputador juega piedra\n",
      "Resultado: Te gané!\n"
     ]
    }
   ],
   "source": [
    "cachipun()"
   ]
  },
  {
   "cell_type": "code",
   "execution_count": 45,
   "id": "b35d17bd",
   "metadata": {},
   "outputs": [
    {
     "name": "stdout",
     "output_type": "stream",
     "text": [
      "¿piedra, papel o tijera? papel\n",
      "Jugaste papel\n",
      "Coomputador juega papel\n",
      "Resultado: Empate\n"
     ]
    }
   ],
   "source": [
    "cachipun()"
   ]
  },
  {
   "cell_type": "markdown",
   "id": "9b04e5dd",
   "metadata": {},
   "source": [
    "### Instrucciones iterativas: while"
   ]
  },
  {
   "cell_type": "markdown",
   "id": "3644e753",
   "metadata": {},
   "source": [
    "Supongamos que queremos jugar varias partidas de cachipún. Con el ciclo `while` podemos ejecutar instrucciones mientras una condición se cumpla:"
   ]
  },
  {
   "cell_type": "code",
   "execution_count": null,
   "id": "8267856a",
   "metadata": {},
   "outputs": [],
   "source": [
    "jugar={'si':1,'no':0}\n",
    "seguir=1\n",
    "while(seguir==1):\n",
    "    cachipun()\n",
    "    seguir=int(jugar[input(\"seguimos?\")])\n"
   ]
  },
  {
   "cell_type": "markdown",
   "id": "7e873dc6",
   "metadata": {},
   "source": [
    "### Manejo de errores"
   ]
  },
  {
   "cell_type": "markdown",
   "id": "3f1040d0",
   "metadata": {},
   "source": [
    "para manejar errores tenemos los comandos `try` y `except`"
   ]
  },
  {
   "cell_type": "code",
   "execution_count": null,
   "id": "71fe433e",
   "metadata": {},
   "outputs": [],
   "source": [
    "jugar={'si':1,'no':0}\n",
    "seguir=1\n",
    "while(seguir==1):\n",
    "    cachipun()\n",
    "    try:\n",
    "        seguir=int(jugar[input(\"seguimos?\")])\n",
    "    except(KeyError):\n",
    "        print(\"Respuesta incorrecta!, otro día seguimos!\")\n",
    "        break"
   ]
  },
  {
   "cell_type": "code",
   "execution_count": 49,
   "id": "d58a755c",
   "metadata": {},
   "outputs": [],
   "source": [
    "def cachipun_mejorado():\n",
    "    from random import randint\n",
    "    computador=randint(0,2)\n",
    "    try:\n",
    "        player=dict_cachipun[input(\"¿piedra, papel o tijera? \")]\n",
    "        if computador==player: \n",
    "            resultado=\"Empate\" \n",
    "        else:\n",
    "            if (computador+1)%3==player: \n",
    "                resultado=\"Ganaste!\" \n",
    "            else: \n",
    "                resultado=\"Te gané!\"\n",
    "        \n",
    "        print(\"Jugaste\", lista_cachipun[player])\n",
    "        print(\"Computador juega\", lista_cachipun[computador])\n",
    "        print(\"Resultado:\", resultado)\n",
    "    except(KeyError):\n",
    "        print(\"No sabes Jugar!\")\n"
   ]
  },
  {
   "cell_type": "code",
   "execution_count": 52,
   "id": "790518e8",
   "metadata": {},
   "outputs": [
    {
     "name": "stdout",
     "output_type": "stream",
     "text": [
      "¿piedra, papel o tijera? tijera\n",
      "Jugaste tijera\n",
      "Computador juega piedra\n",
      "Resultado: Te gané!\n",
      "seguimos?asdsadsa\n",
      "Respuesta incorrecta!, otro día seguimos!\n"
     ]
    }
   ],
   "source": [
    "jugar={'si':1,'no':0}\n",
    "seguir=1\n",
    "while(seguir==1):\n",
    "    cachipun_mejorado()\n",
    "    try:\n",
    "        seguir=int(jugar[input(\"seguimos?\")])\n",
    "    except(KeyError):\n",
    "        print(\"Respuesta incorrecta!, otro día seguimos!\")\n",
    "        break"
   ]
  },
  {
   "cell_type": "code",
   "execution_count": 54,
   "id": "a8102843",
   "metadata": {},
   "outputs": [
    {
     "name": "stdout",
     "output_type": "stream",
     "text": [
      "¿piedra, papel o tijera? tijera\n",
      "Jugaste tijera\n",
      "Computador juega piedra\n",
      "Resultado: Te gané!\n",
      "seguimos?no\n"
     ]
    }
   ],
   "source": [
    "jugar={'si':1,'no':0}\n",
    "seguir=1\n",
    "while(seguir==1):\n",
    "    cachipun_mejorado()\n",
    "    try:\n",
    "        seguir=int(jugar[input(\"seguimos?\")])\n",
    "    except(KeyError):\n",
    "        print(\"Respuesta incorrecta!, otro día seguimos!\")\n",
    "        break"
   ]
  },
  {
   "cell_type": "code",
   "execution_count": 57,
   "id": "e041b786",
   "metadata": {},
   "outputs": [],
   "source": [
    "def cachipun_forever():\n",
    "    jugar={'si':1,'no':0}\n",
    "    seguir=1\n",
    "    while(seguir==1):\n",
    "        cachipun_mejorado()\n",
    "        try:\n",
    "            seguir=int(jugar[input(\"seguimos?\")])\n",
    "        except(KeyError):\n",
    "            print(\"Respuesta incorrecta!, otro día seguimos!\")\n",
    "            break\n",
    "            "
   ]
  },
  {
   "cell_type": "code",
   "execution_count": 58,
   "id": "8b0e9190",
   "metadata": {},
   "outputs": [
    {
     "name": "stdout",
     "output_type": "stream",
     "text": [
      "¿piedra, papel o tijera? tijera\n",
      "Jugaste tijera\n",
      "Computador juega tijera\n",
      "Resultado: Empate\n",
      "seguimos?si\n",
      "¿piedra, papel o tijera? piedra\n",
      "Jugaste piedra\n",
      "Computador juega papel\n",
      "Resultado: Te gané!\n",
      "seguimos?no\n"
     ]
    }
   ],
   "source": [
    "cachipun_forever()"
   ]
  },
  {
   "cell_type": "code",
   "execution_count": 59,
   "id": "e8505ea6",
   "metadata": {},
   "outputs": [
    {
     "name": "stdout",
     "output_type": "stream",
     "text": [
      "¿piedra, papel o tijera? tijera\n",
      "Jugaste tijera\n",
      "Computador juega tijera\n",
      "Resultado: Empate\n",
      "seguimos?si\n",
      "¿piedra, papel o tijera? no\n",
      "No sabes Jugar!\n",
      "seguimos?no\n"
     ]
    }
   ],
   "source": [
    "cachipun_forever()"
   ]
  },
  {
   "cell_type": "code",
   "execution_count": null,
   "id": "e4930fe2",
   "metadata": {},
   "outputs": [],
   "source": []
  }
 ],
 "metadata": {
  "kernelspec": {
   "display_name": "Python 3",
   "language": "python",
   "name": "python3"
  },
  "language_info": {
   "codemirror_mode": {
    "name": "ipython",
    "version": 3
   },
   "file_extension": ".py",
   "mimetype": "text/x-python",
   "name": "python",
   "nbconvert_exporter": "python",
   "pygments_lexer": "ipython3",
   "version": "3.8.8"
  }
 },
 "nbformat": 4,
 "nbformat_minor": 5
}
